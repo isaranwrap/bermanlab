{
 "cells": [
  {
   "cell_type": "code",
   "execution_count": 2,
   "metadata": {},
   "outputs": [],
   "source": [
    "%load_ext autoreload\n",
    "%autoreload 2"
   ]
  },
  {
   "cell_type": "code",
   "execution_count": 3,
   "metadata": {},
   "outputs": [],
   "source": [
    "import pandas as pd\n",
    "import numpy as np\n",
    "import h5py\n",
    "import os\n",
    "os.environ['DISPLAY'] = 'localhost:10.0'\n",
    "os.chdir('/home/ishan/honors_thesis/scripts')\n",
    "from scripts import dlc_rnn, utils\n",
    "import numpy as np\n",
    "import matplotlib.pyplot as plt\n",
    "import time\n",
    "from scipy import ndimage"
   ]
  },
  {
   "cell_type": "code",
   "execution_count": 3,
   "metadata": {},
   "outputs": [],
   "source": [
    "trainX = h5py.File('/home/ishan/honors_thesis/Xtrain.h5', 'r')['joint_angles'][:]\n",
    "trainY = h5py.File('/home/ishan/honors_thesis/Ytrain.h5', 'r')['joint_angles'][:]\n",
    "\n",
    "valX = h5py.File('/home/ishan/honors_thesis/Xval.h5', 'r')['joint_angles'][:]\n",
    "valY = h5py.File('/home/ishan/honors_thesis/Yval.h5', 'r')['joint_angles'][:]"
   ]
  },
  {
   "cell_type": "code",
   "execution_count": 4,
   "metadata": {},
   "outputs": [
    {
     "data": {
      "text/plain": [
       "<matplotlib.collections.PathCollection at 0x7fbd850c9b50>"
      ]
     },
     "execution_count": 4,
     "metadata": {},
     "output_type": "execute_result"
    },
    {
     "data": {
      "image/png": "[encoded data removed]",
      "text/plain": [
       "<Figure size 432x288 with 2 Axes>"
      ]
     },
     "metadata": {
      "needs_background": "light"
     },
     "output_type": "display_data"
    }
   ],
   "source": [
    "t = 5020\n",
    "%matplotlib inline\n",
    "fig, axes = plt.subplots(2,1)\n",
    "ax = axes[0]\n",
    "ax.scatter(trainX[t, -1, ::2], trainX[t, -1, 1::2])\n",
    "\n",
    "ax = axes[1]\n",
    "ax.scatter(trainY[t, ::2], trainY[t, 1::2])\n"
   ]
  },
  {
   "cell_type": "code",
   "execution_count": 12,
   "metadata": {},
   "outputs": [
    {
     "name": "stderr",
     "output_type": "stream",
     "text": [
      "Training: 100%|██████████| 2500/2500 [3:15:52<00:00,  4.70s/it]  \n"
     ]
    }
   ],
   "source": [
    "%matplotlib agg\n",
    "\n",
    "model = dlc_rnn.LSTM1Dense1(trainX=trainX, trainY=trainY, valX=valX, valY=valY, gputouse=1, task='fly')\n",
    "model.train(epochs=2500)"
   ]
  },
  {
   "cell_type": "code",
   "execution_count": null,
   "metadata": {},
   "outputs": [],
   "source": []
  }
 ],
 "metadata": {
  "kernelspec": {
   "display_name": "Python 3",
   "language": "python",
   "name": "python3"
  },
  "language_info": {
   "codemirror_mode": {
    "name": "ipython",
    "version": 3
   },
   "file_extension": ".py",
   "mimetype": "text/x-python",
   "name": "python",
   "nbconvert_exporter": "python",
   "pygments_lexer": "ipython3",
   "version": "3.7.4"
  }
 },
 "nbformat": 4,
 "nbformat_minor": 4
}
