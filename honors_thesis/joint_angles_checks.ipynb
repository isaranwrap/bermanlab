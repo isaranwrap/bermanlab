{
  "nbformat": 4,
  "nbformat_minor": 0,
  "metadata": {
    "colab": {
      "name": "joint_angles_checks.ipynb",
      "provenance": [],
      "collapsed_sections": [
        "h8yY3hctAz2n",
        "EobKjRH70HkS",
        "htpFn1Nsz5Lj"
      ]
    },
    "kernelspec": {
      "name": "python3",
      "display_name": "Python 3"
    }
  },
  "cells": [
    {
      "cell_type": "markdown",
      "metadata": {
        "id": "asqscJ3engb0",
        "colab_type": "text"
      },
      "source": [
        "# Turning raw point time series into joint angle time series"
      ]
    },
    {
      "cell_type": "markdown",
      "metadata": {
        "id": "tBe0inLHnkfF",
        "colab_type": "text"
      },
      "source": [
        "## Imports"
      ]
    },
    {
      "cell_type": "code",
      "metadata": {
        "id": "3pJ1BeX-nc7e",
        "colab_type": "code",
        "colab": {}
      },
      "source": [
        "#trifecta\n",
        "import numpy as np\n",
        "import pandas as pd\n",
        "import matplotlib.pyplot as plt\n",
        "\n",
        "import h5py #reading in file\n",
        "\n",
        "from numpy import pi"
      ],
      "execution_count": 0,
      "outputs": []
    },
    {
      "cell_type": "markdown",
      "metadata": {
        "id": "WGTrdPw5ntxp",
        "colab_type": "text"
      },
      "source": [
        "## Reading in File, Index Mapping"
      ]
    },
    {
      "cell_type": "code",
      "metadata": {
        "id": "QsW9J1KunrGl",
        "colab_type": "code",
        "colab": {}
      },
      "source": [
        "d = h5py.File('072212_163153.h5')\n",
        "pos = d['positions_pred'] #pos.shape is 361000 x 2 x 32\n",
        "pos[48,:,:] = pos[47,:,:] #for some weird reason, the 48th frame is weird ... can check it by plotting, so I just use prev. frame\n",
        "t = np.arange(pos.shape[0])"
      ],
      "execution_count": 0,
      "outputs": []
    },
    {
      "cell_type": "code",
      "metadata": {
        "id": "ffoMqHwPn30Y",
        "colab_type": "code",
        "outputId": "32d2c429-a74d-4d0a-8276-07cdcfbd58ae",
        "colab": {
          "base_uri": "https://localhost:8080/",
          "height": 265
        }
      },
      "source": [
        "ff = pos[48,:,:] #first frame\n",
        "ff_x = ff[0,:]\n",
        "ff_y = ff[1,:]\n",
        "\n",
        "# 0 --> tip of head, between antennae\n",
        "# 1 --> left eye\n",
        "# 2 --> right eye\n",
        "# 3 --> neck\n",
        "# 4 --> mesothoracic phragma\n",
        "# 5 --> abdomen\n",
        "# 6 --> Rforeleg1\n",
        "# 7 --> Rforeleg2\n",
        "# 8 --> Rforeleg3\n",
        "# 9 --> Rforeleg4\n",
        "#10 --> Rmidleg1\n",
        "#11 --> 2\n",
        "#12 --> 3\n",
        "#13 --> 4\n",
        "#14 --> Rhindleg1\n",
        "#.\n",
        "#.\n",
        "#.\n",
        "#31 --> Left wing tip\n",
        "#32 --> Right wing tip\n",
        "\n",
        "#Kanishk's code - of course accomplishes exactly what I was trying to do in a much smarter & simpler way\n",
        "for i in range(ff.shape[1]):\n",
        "  plt.scatter(ff_x[i], ff_y[i], marker='$'+str(i)+'$', s=60) #plots the \n",
        "plt.gca().invert_yaxis()"
      ],
      "execution_count": 0,
      "outputs": [
        {
          "output_type": "display_data",
          "data": {
            "image/png": "[encoded data removed]",
            "text/plain": [
              "<Figure size 432x288 with 1 Axes>"
            ]
          },
          "metadata": {
            "tags": []
          }
        }
      ]
    },
    {
      "cell_type": "code",
      "metadata": {
        "id": "JlYiSl4aZjg_",
        "colab_type": "code",
        "colab": {}
      },
      "source": [
        "## keep rotated just in case.... but we'll just stick with the fly oriented as is \n",
        "# it also takes a while to run... so just uncomment for loops if need arises\n",
        "#rotation matrix\n",
        "rotation_matrix = np.array([[0, 1],\n",
        "                            [1,  0]])\n",
        "\n",
        "pos_rotated = np.empty_like(pos)\n",
        "num_points = 32\n",
        "#for p in range(num_points):\n",
        "#  pos_rotated[:,:,p] = np.matmul(pos[:,:,p], rotation_matrix)\n",
        "\n",
        "#plt.figure(figsize = (6,6))\n",
        "ff = pos[48,:,:] #first frame\n",
        "ff_x = ff[0,:]\n",
        "ff_y = ff[1,:]\n",
        "#for i in range(pos_rotated.shape[2]):\n",
        "#  plt.scatter(pos_rotated[0,0,i], pos_rotated[0,1,i], marker = '${}$'.format(str(i)), s=100)\n",
        "#plt.gca().invert_yaxis()"
      ],
      "execution_count": 0,
      "outputs": []
    },
    {
      "cell_type": "markdown",
      "metadata": {
        "id": "h8yY3hctAz2n",
        "colab_type": "text"
      },
      "source": [
        "## User-defined functions:\n",
        "\n",
        "getAngle --> returns angle time series of two vector time series\n",
        "\n",
        "getJointAngles --> returns the joint angle time series from the position time series"
      ]
    },
    {
      "cell_type": "code",
      "metadata": {
        "id": "Ua2Q1x_N8hKy",
        "colab_type": "code",
        "colab": {}
      },
      "source": [
        "def getAngle(v1, v2):\n",
        "  '''\n",
        "  Input: two vectors, v1 & v2, which are np arrays of size (N, 2) --> time series of (x,y) coordinates, N time points\n",
        "  Output: joint angle time series, np array of shape (N, ) --> time series of the angle between the two vectors\n",
        "          // might need to reshape the array with .reshape(-1,1) to fit into multi-dimensional array of all joint angles (as I did in getJointAngles) \n",
        "  '''\n",
        "  #cos = ((v1*v2).sum(axis=1))/(np.linalg.norm(v1, axis=1)*np.linalg.norm(v2, axis=1)) %%timeit 28.5 ms per loop vs 32.7 ms per loop\n",
        "  cos = (v1[:,0]*v2[:,0] + v1[:,1]*v2[:,1])/(np.linalg.norm(v1, axis=1)*np.linalg.norm(v2, axis=1))\n",
        "  return np.arccos(cos)\n",
        "\n",
        "def getJointAngles(pos = pos, origin_index1 = 4, origin_index2 = 3, num_angles=30):\n",
        "  ''' \n",
        "  Input: position time series, np(or h5py) array of shape (N, 2, j) --> time series of (x,y) coords for j joints tracked\n",
        "    (optional) origin_index1, origin_index2 --> which indices to define the origin from (default 3 & 4 for fly, corresponding to neck & thorax)\n",
        "  Output: angle time series, np array of shape (N-nans, 1, num_angles) --> gets rid of all the rows with nans in the angles, and \n",
        "        (for the fly) there are num_angles=30 total angles which are computed (specified below)\n",
        "\n",
        "  Angles \n",
        "  -------\n",
        "  # 0 is the head\n",
        "  # 1 & 2 are L & R eyes, respectively\n",
        "  # 3 & 4 are L & R wings, respectvely\n",
        "  # 5 is the abdomen\n",
        "  # 6 - 9 are the R foreleg joints\n",
        "  # 10 - 13 are the R midleg joints\n",
        "  # 14 - 17 are the R hindleg joints\n",
        "  # 18 - 21 are the L foreleg joints\n",
        "  # 22 - 25 are the L midleg joints\n",
        "  # 26 - 29 are the L hindleg joints\n",
        "  '''\n",
        "\n",
        "  # need to make thorax--->neck the base line\n",
        "  # and every other angle relative to that\n",
        "  origin = pos[:,:,origin_index1]\n",
        "  neck = pos[:,:, origin_index2]\n",
        "\n",
        "  N = pos.shape[0]\n",
        "  #x is the line everything will be referenced to \n",
        "  x = neck - origin\n",
        "\n",
        "  #initialize empty array for joint angles --> this will be shape of array returned\n",
        "  joint_angles = np.empty((N, 1, num_angles))\n",
        "  joints_list = set(np.arange(32)) - {3, 4, 30, 31} # get rid of the joints which we are using to define our origin line... doesn't make sense to\n",
        "  # have an angle between them.... and then 30,31 out of index range --> add back after loop\n",
        "\n",
        "  #populate joint_angles array\n",
        "  for p in joints_list: #find angle between x-vector and joint vector\n",
        "    joint_angles[:,:, p] = getAngle(x, pos[:,:,p] - origin).reshape(-1,1) \n",
        "  joint_angles[:,:,3] = getAngle(x, pos[:,:,30] - origin).reshape(-1,1) #make joint_angles 3 and 4 the wings\n",
        "  joint_angles[:,:,4] = getAngle(x, pos[:,:,31] - origin).reshape(-1,1) #since they are definining origin\n",
        "  #np.where(np.isnan(joint_angles))[0].shape ([1] or [2] as well) is 29... so 29 null vals \n",
        "  # --> np.isnan(joint_angles).sum() gives 26... presumably because of frame 48 which was giving hella problems earlier\n",
        "\n",
        "  #remove nans\n",
        "  nan_indices = np.where(np.isnan(joint_angles))[0] #rows which have a SINGLE nan in any of the cols\n",
        "  notnans = [i for i in range(N) if i not in nan_indices] #the indices which aren't nans\n",
        "  joint_angles = joint_angles[notnans,0,:]\n",
        "  return joint_angles"
      ],
      "execution_count": 0,
      "outputs": []
    },
    {
      "cell_type": "markdown",
      "metadata": {
        "id": "EobKjRH70HkS",
        "colab_type": "text"
      },
      "source": [
        "## Checks"
      ]
    },
    {
      "cell_type": "code",
      "metadata": {
        "id": "V2U69YDdpEB-",
        "colab_type": "code",
        "colab": {}
      },
      "source": [
        "joint_angles = h5py.File('joint_angles.h5')['joint_angles']"
      ],
      "execution_count": 0,
      "outputs": []
    },
    {
      "cell_type": "code",
      "metadata": {
        "id": "5TGpjVJto8a9",
        "colab_type": "code",
        "outputId": "9e5dcd04-bd85-44d6-e0a4-06e50627b741",
        "colab": {
          "base_uri": "https://localhost:8080/",
          "height": 282
        }
      },
      "source": [
        "plt.plot(np.arange(1000), joint_angles[:1000,7],'.')"
      ],
      "execution_count": 0,
      "outputs": [
        {
          "output_type": "execute_result",
          "data": {
            "text/plain": [
              "[<matplotlib.lines.Line2D at 0x7f5aef9dc7f0>]"
            ]
          },
          "metadata": {
            "tags": []
          },
          "execution_count": 12
        },
        {
          "output_type": "display_data",
          "data": {
            "image/png": "[encoded data removed]",
            "text/plain": [
              "<Figure size 432x288 with 1 Axes>"
            ]
          },
          "metadata": {
            "tags": []
          }
        }
      ]
    },
    {
      "cell_type": "code",
      "metadata": {
        "id": "VUQC9XtK5a7j",
        "colab_type": "code",
        "outputId": "450d2ca1-d3b7-400d-fd76-af008eb2212f",
        "colab": {
          "base_uri": "https://localhost:8080/",
          "height": 578
        }
      },
      "source": [
        "joint_angles = getJointAngles(pos)\n",
        "print(joint_angles.shape)\n",
        "#some checks: \n",
        "# 0 is the head --> angle should be pretty close to zero... the mean is 0.021, std 0.015, max is 0.109\n",
        "# 1& 2 are eyes --> should be similar to each other... means are 0.4254 and 0.4367, std ~0.026, maxes 0.54 & 0.60, mins 0.2, 0.3\n",
        "# 3 & 4 are wings --> closer to π, should be similar to one another.. means ~2.9, stdevs ~0.1, maxes π, mins 1.6, 0.8 ... which is fine i guess\n",
        "# 5 is abdomen --> damn close to π, mean of 3.08, max of pi and min of 2.8 \n",
        "\n",
        "# fore legs (6-9, 18-21) are closer to 0 than to π, and larger than middle/back legs \n",
        "# mid legs (10-13, 22-25) are closer to π/2 (1.57), larger than frnt smaller than back\n",
        "# hind legs(14-17, 26-29) are closer to the π end, larger than front + mid\n",
        "\n",
        "#and all the joint angles in one limb are similar to one another... don't know whether to expect this or not but i'm fairly happy\n",
        "\n",
        "for joint in range(30):\n",
        "  j = joint_angles[:,joint]\n",
        "  print('{} - mean: {}, stdev: {}, max: {}, min: {}'.format(joint, j.mean(), j.std(), j.max(), j.min()))\n"
      ],
      "execution_count": 0,
      "outputs": [
        {
          "output_type": "stream",
          "text": [
            "/usr/local/lib/python3.6/dist-packages/ipykernel_launcher.py:9: RuntimeWarning: invalid value encountered in arccos\n",
            "  if __name__ == '__main__':\n"
          ],
          "name": "stderr"
        },
        {
          "output_type": "stream",
          "text": [
            "(360975, 30)\n",
            "0 - mean: 0.021283442291938792, stdev: 0.015358686473810735, max: 0.10975005480647863, min: 0.0\n",
            "1 - mean: 0.4254134853270366, stdev: 0.026085520124982185, max: 0.5363668375540601, min: 0.18919902209996817\n",
            "2 - mean: 0.4366996671735824, stdev: 0.025831442506471358, max: 0.5961991412974803, min: 0.2563476823127997\n",
            "3 - mean: 2.933142685896465, stdev: 0.11524381982746652, max: 3.141592653589793, min: 1.6348368918560914\n",
            "4 - mean: 2.8774140236868835, stdev: 0.09461999653961499, max: 3.141592653589793, min: 0.7853981633974483\n",
            "5 - mean: 3.0886206158134915, stdev: 0.042064057433778924, max: 3.141592653589793, min: 2.815752142448454\n",
            "6 - mean: 0.5032197420022837, stdev: 0.04130460069150675, max: 0.7496990507181244, min: 0.19739555984988044\n",
            "7 - mean: 0.5552569856210333, stdev: 0.0946737880011199, max: 1.9825425373375298, min: 0.03702011587393292\n",
            "8 - mean: 0.5270724312469045, stdev: 0.2161072480568236, max: 1.501939837493852, min: 0.0\n",
            "9 - mean: 0.5882561304142998, stdev: 0.26184739098378473, max: 2.0072888880494553, min: 0.0\n",
            "10 - mean: 1.0067327679624094, stdev: 0.07776519588905803, max: 1.8127168954793014, min: 0.2782996590051114\n",
            "11 - mean: 1.5993748763391524, stdev: 0.12270280808755853, max: 2.705927560549249, min: 0.628796286415433\n",
            "12 - mean: 1.7584105225942277, stdev: 0.2143382440006037, max: 2.7736117174448087, min: 0.3397570826045735\n",
            "13 - mean: 1.8997565286736249, stdev: 0.2807971760986547, max: 3.1271549051028744, min: 0.19855610091492723\n",
            "14 - mean: 2.124333228644333, stdev: 0.09996810979616902, max: 2.4805494847391065, min: 0.60554466360497\n",
            "15 - mean: 2.2671429633293614, stdev: 0.19614317819230495, max: 3.0155045585252034, min: 0.6212905016384139\n",
            "16 - mean: 2.6899832756630793, stdev: 0.21866120918671855, max: 3.141592653589793, min: 0.8288490587889792\n",
            "17 - mean: 2.7444656758281436, stdev: 0.21658445014625427, max: 3.141592653589793, min: 0.9519664877856707\n",
            "18 - mean: 0.4769264252104607, stdev: 0.03725250438344966, max: 2.5672878234150915, min: 0.27076329674283106\n",
            "19 - mean: 0.4942880012448413, stdev: 0.09549361599622959, max: 1.4645983848700568, min: 0.039978687123288385\n",
            "20 - mean: 0.3973012112258563, stdev: 0.18993094318275103, max: 1.436437316279319, min: 0.0\n",
            "21 - mean: 0.448057738617531, stdev: 0.23596170054343327, max: 2.0344439357957027, min: 0.0\n",
            "22 - mean: 1.0036143381589453, stdev: 0.068989485995171, max: 2.745106346621354, min: 0.46364760900080615\n",
            "23 - mean: 1.5700633424922072, stdev: 0.11470972145470502, max: 2.738454482341877, min: 0.597876848939422\n",
            "24 - mean: 1.7140493537501338, stdev: 0.23143299515143495, max: 2.8524569572202703, min: 0.5667292175235061\n",
            "25 - mean: 1.8471308721297357, stdev: 0.282333318390026, max: 3.081424402434785, min: 0.26165320574171314\n",
            "26 - mean: 2.118956787725329, stdev: 0.09274665816377087, max: 2.6523564810572036, min: 0.75415832996718\n",
            "27 - mean: 2.24230419638945, stdev: 0.22976088109225642, max: 3.141592653589793, min: 0.5954593951379968\n",
            "28 - mean: 2.667380426168057, stdev: 0.23584094259907476, max: 3.141592653589793, min: 1.1019222845461014\n",
            "29 - mean: 2.721396919310074, stdev: 0.2258089784914433, max: 3.141592653589793, min: 0.918778745412985\n"
          ],
          "name": "stdout"
        }
      ]
    },
    {
      "cell_type": "code",
      "metadata": {
        "id": "YoDs4oW2DXmw",
        "colab_type": "code",
        "colab": {}
      },
      "source": [
        "#Checking to see if joint_angles.h5 is retrievable\n",
        "ja = h5py.File('joint_angles.h5')\n",
        "print(list(ja.keys()))\n",
        "print(ja['joint_angles'].shape) #great!"
      ],
      "execution_count": 0,
      "outputs": []
    },
    {
      "cell_type": "markdown",
      "metadata": {
        "id": "cC8-y7hhDDlz",
        "colab_type": "text"
      },
      "source": [
        "## Save file"
      ]
    },
    {
      "cell_type": "code",
      "metadata": {
        "id": "o9yLJhnZDGp2",
        "colab_type": "code",
        "colab": {}
      },
      "source": [
        "with h5py.File('joint_angles.h5', 'w') as h5f:\n",
        "  h5f.create_dataset('joint_angles', data = joint_angles)"
      ],
      "execution_count": 0,
      "outputs": []
    },
    {
      "cell_type": "markdown",
      "metadata": {
        "id": "htpFn1Nsz5Lj",
        "colab_type": "text"
      },
      "source": [
        "## Initial Code to Create angle time series"
      ]
    },
    {
      "cell_type": "code",
      "metadata": {
        "id": "vSCOEYcbAy6F",
        "colab_type": "code",
        "outputId": "2220dfae-5071-48c8-b585-6ca1422e74e9",
        "colab": {
          "base_uri": "https://localhost:8080/",
          "height": 71
        }
      },
      "source": [
        "# need to make thorax--->neck the base line\n",
        "# and every other angle relative to that\n",
        "\n",
        "origin = pos[:, :, 4]\n",
        "neck   = pos[:, :, 3]\n",
        "x = neck - origin\n",
        "\n",
        "joint_angles = np.empty((pos.shape[0], 1, 30))\n",
        "joints_list = set(np.arange(32)) - {3, 4, 30, 31} # get rid of the joints which we are using to define our origin line... doesn't make sense to\n",
        "# have an anglee between them.... and then 30,31 out of index range --> add back after loop\n",
        "\n",
        "for p in joints_list: #find angle between x-vector and joint vector\n",
        "  joint_angles[:,:, p] = getAngle(x, pos[:,:,p] - origin).reshape(-1,1) \n",
        "joint_angles[:,:,3] = getAngle(x, pos[:,:,30] - origin).reshape(-1,1) #make joint_angles 3 and 4 the wings\n",
        "joint_angles[:,:,4] = getAngle(x, pos[:,:,31] - origin).reshape(-1,1) #since they are definining origin\n",
        "#np.where(np.isnan(joint_angles))[0].shape ([1] or [2] as well) is 29... so 29 null vals \n",
        "# --> np.isnan(joint_angles).sum() gives 26... presumably because of frame 48 which was giving hella problems earlier\n",
        "\n",
        "#remove nans\n",
        "nan_indices = np.where(np.isnan(joint_angles))[0]\n",
        "notnans = [i for i in range(pos.shape[0]) if i not in nan_indices]\n",
        "#nans at 68386, 75266, 85916, ... 297161, 297161, 299093\n",
        "#joint_angles(np.where(np.isnan(joint_angles))[0], :, :)\n",
        "joint_angles = joint_angles[notnans]"
      ],
      "execution_count": 0,
      "outputs": [
        {
          "output_type": "stream",
          "text": [
            "/usr/local/lib/python3.6/dist-packages/ipykernel_launcher.py:4: RuntimeWarning: invalid value encountered in arccos\n",
            "  after removing the cwd from sys.path.\n"
          ],
          "name": "stderr"
        }
      ]
    }
  ]
}