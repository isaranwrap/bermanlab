{
 "cells": [
  {
   "cell_type": "markdown",
   "metadata": {},
   "source": [
    "### Imports"
   ]
  },
  {
   "cell_type": "code",
   "execution_count": 2,
   "metadata": {},
   "outputs": [],
   "source": [
    "#imports\n",
    "import numpy as np\n",
    "import matplotlib.pyplot as plt\n",
    "\n",
    "import h5py #to read in h5 file \n",
    "import random #to shuffle indices\n",
    "\n",
    "from numpy import pi\n",
    "import os \n",
    "import time\n",
    "from scipy import ndimage\n",
    "\n",
    "os.chdir('/home/ishan/honors_thesis')\n",
    "from scripts import dlc_rnn\n",
    "\n",
    "np.random.seed(0) #seed for reproducability"
   ]
  },
  {
   "cell_type": "code",
   "execution_count": 8,
   "metadata": {},
   "outputs": [],
   "source": [
    "trainX = h5py.File('/home/ishan/honors_thesis/second_pass/Xtrain.h5', 'r')['joint_angles'][:]\n",
    "trainY = h5py.File('/home/ishan/honors_thesis/second_pass/Ytrain.h5', 'r')['joint_angles'][:]\n",
    "\n",
    "valX = h5py.File('/home/ishan/honors_thesis/second_pass/Xval.h5', 'r')['joint_angles'][:]\n",
    "valY = h5py.File('/home/ishan/honors_thesis/second_pass/Yval.h5', 'r')['joint_angles'][:]"
   ]
  },
  {
   "cell_type": "code",
   "execution_count": null,
   "metadata": {},
   "outputs": [
    {
     "name": "stderr",
     "output_type": "stream",
     "text": [
      "\n",
      "Training:   0%|          | 0/1000 [00:00<?, ?it/s]\u001b[A\n",
      "Training:   0%|          | 1/1000 [00:13<3:40:26, 13.24s/it]\u001b[A\n",
      "Training:   0%|          | 2/1000 [00:25<3:37:28, 13.07s/it]\u001b[A\n",
      "Training:   0%|          | 3/1000 [00:39<3:38:16, 13.14s/it]\u001b[A\n",
      "Training:   0%|          | 4/1000 [00:53<3:43:16, 13.45s/it]\u001b[A\n",
      "Training:   0%|          | 5/1000 [01:08<3:52:12, 14.00s/it]\u001b[A\n",
      "Training:   1%|          | 6/1000 [01:22<3:50:53, 13.94s/it]\u001b[A\n",
      "Training:   1%|          | 7/1000 [01:34<3:40:27, 13.32s/it]\u001b[A\n",
      "Training:   1%|          | 8/1000 [01:45<3:27:03, 12.52s/it]\u001b[A\n",
      "Training:   1%|          | 9/1000 [01:55<3:19:06, 12.06s/it]\u001b[A\n",
      "Training:   1%|          | 10/1000 [02:08<3:22:38, 12.28s/it]\u001b[A\n",
      "Training:   1%|          | 11/1000 [02:20<3:22:05, 12.26s/it]\u001b[A\n",
      "Training:   1%|          | 12/1000 [02:34<3:29:43, 12.74s/it]\u001b[A\n",
      "Training:   1%|▏         | 13/1000 [02:46<3:25:49, 12.51s/it]\u001b[A\n",
      "Training:   1%|▏         | 14/1000 [02:58<3:20:29, 12.20s/it]\u001b[A\n",
      "Training:   2%|▏         | 15/1000 [03:09<3:17:38, 12.04s/it]\u001b[A\n",
      "Training:   2%|▏         | 16/1000 [03:22<3:21:27, 12.28s/it]\u001b[A\n",
      "Training:   2%|▏         | 17/1000 [03:34<3:18:53, 12.14s/it]\u001b[A\n",
      "Training:   2%|▏         | 18/1000 [03:46<3:16:51, 12.03s/it]\u001b[A\n",
      "Training:   2%|▏         | 19/1000 [03:56<3:08:03, 11.50s/it]\u001b[A\n",
      "Training:   2%|▏         | 20/1000 [04:09<3:14:30, 11.91s/it]\u001b[A"
     ]
    }
   ],
   "source": [
    "%matplotlib agg\n",
    "\n",
    "model = dlc_rnn.LSTM1Dense1(trainX=trainX, trainY=trainY, valX=valX, valY=valY, gputouse=1, task='fly')\n",
    "model.train(epochs=1000, batch_size = 16)\n",
    "os.rename(\"/home/ishan/honors_thesis/flyRNN.hdf5\", \"/home/ishan/honors_thesis/models/flyRNN_1l_bs=16.hdf5\")\n",
    "os.rename(\"/home/ishan/honors_thesis/flylosscurve.png\", \"/home/ishan/honors_thesis/models/flylosscurve_1l_bs=16.png\")"
   ]
  },
  {
   "cell_type": "code",
   "execution_count": null,
   "metadata": {},
   "outputs": [],
   "source": [
    "model_2layer = dlc_rnn.LSTM2(trainX=trainX, trainY=trainY, valX=valX, valY=valY, gputouse=1, task='fly')\n",
    "model.train(epochs=1000, batch_size = 16)\n",
    "os.rename(\"/home/ishan/honors_thesis/flyRNN.hdf5\", \"/home/ishan/honors_thesis/models/flyRNN_2l_bs=16.hdf5\")\n",
    "os.rename(\"/home/ishan/honors_thesis/flylosscurve.png\", \"/home/ishan/honors_thesis/models/flylosscurve_2l_bs=16.png\")"
   ]
  }
 ],
 "metadata": {
  "kernelspec": {
   "display_name": "Python 3",
   "language": "python",
   "name": "python3"
  },
  "language_info": {
   "codemirror_mode": {
    "name": "ipython",
    "version": 3
   },
   "file_extension": ".py",
   "mimetype": "text/x-python",
   "name": "python",
   "nbconvert_exporter": "python",
   "pygments_lexer": "ipython3",
   "version": "3.7.4"
  }
 },
 "nbformat": 4,
 "nbformat_minor": 2
}
