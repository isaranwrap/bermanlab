{
 "cells": [
  {
   "cell_type": "markdown",
   "metadata": {},
   "source": [
    "### Imports"
   ]
  },
  {
   "cell_type": "code",
   "execution_count": 1,
   "metadata": {
    "scrolled": true
   },
   "outputs": [
    {
     "name": "stderr",
     "output_type": "stream",
     "text": [
      "Using TensorFlow backend.\n",
      "/home/ishan/anaconda3/lib/python3.7/site-packages/tensorflow/python/framework/dtypes.py:526: FutureWarning: Passing (type, 1) or '1type' as a synonym of type is deprecated; in a future version of numpy, it will be understood as (type, (1,)) / '(1,)type'.\n",
      "  _np_qint8 = np.dtype([(\"qint8\", np.int8, 1)])\n",
      "/home/ishan/anaconda3/lib/python3.7/site-packages/tensorflow/python/framework/dtypes.py:527: FutureWarning: Passing (type, 1) or '1type' as a synonym of type is deprecated; in a future version of numpy, it will be understood as (type, (1,)) / '(1,)type'.\n",
      "  _np_quint8 = np.dtype([(\"quint8\", np.uint8, 1)])\n",
      "/home/ishan/anaconda3/lib/python3.7/site-packages/tensorflow/python/framework/dtypes.py:528: FutureWarning: Passing (type, 1) or '1type' as a synonym of type is deprecated; in a future version of numpy, it will be understood as (type, (1,)) / '(1,)type'.\n",
      "  _np_qint16 = np.dtype([(\"qint16\", np.int16, 1)])\n",
      "/home/ishan/anaconda3/lib/python3.7/site-packages/tensorflow/python/framework/dtypes.py:529: FutureWarning: Passing (type, 1) or '1type' as a synonym of type is deprecated; in a future version of numpy, it will be understood as (type, (1,)) / '(1,)type'.\n",
      "  _np_quint16 = np.dtype([(\"quint16\", np.uint16, 1)])\n",
      "/home/ishan/anaconda3/lib/python3.7/site-packages/tensorflow/python/framework/dtypes.py:530: FutureWarning: Passing (type, 1) or '1type' as a synonym of type is deprecated; in a future version of numpy, it will be understood as (type, (1,)) / '(1,)type'.\n",
      "  _np_qint32 = np.dtype([(\"qint32\", np.int32, 1)])\n",
      "/home/ishan/anaconda3/lib/python3.7/site-packages/tensorflow/python/framework/dtypes.py:535: FutureWarning: Passing (type, 1) or '1type' as a synonym of type is deprecated; in a future version of numpy, it will be understood as (type, (1,)) / '(1,)type'.\n",
      "  np_resource = np.dtype([(\"resource\", np.ubyte, 1)])\n"
     ]
    }
   ],
   "source": [
    "#imports\n",
    "import numpy as np\n",
    "import matplotlib.pyplot as plt\n",
    "\n",
    "import h5py #to read in h5 file \n",
    "import random #to shuffle indices\n",
    "\n",
    "from numpy import pi\n",
    "import os \n",
    "import time\n",
    "from scipy import ndimage\n",
    "\n",
    "os.chdir('/home/ishan/honors_thesis')\n",
    "from scripts import dlc_rnn\n",
    "\n",
    "np.random.seed(0) #seed for reproducability"
   ]
  },
  {
   "cell_type": "code",
   "execution_count": 2,
   "metadata": {},
   "outputs": [],
   "source": [
    "trainX = h5py.File('/home/ishan/honors_thesis/training_set/Xtrain.h5', 'r')['joint_angles'][:]\n",
    "trainY = h5py.File('/home/ishan/honors_thesis/training_set/Ytrain.h5', 'r')['joint_angles'][:]\n",
    "\n",
    "valX = h5py.File('/home/ishan/honors_thesis/training_set/Xval.h5', 'r')['joint_angles'][:]\n",
    "valY = h5py.File('/home/ishan/honors_thesis/training_set/Yval.h5', 'r')['joint_angles'][:]"
   ]
  },
  {
   "cell_type": "code",
   "execution_count": 24,
   "metadata": {},
   "outputs": [
    {
     "name": "stdout",
     "output_type": "stream",
     "text": [
      "CPU times: user 6.86 s, sys: 404 ms, total: 7.26 s\n",
      "Wall time: 1.16 s\n"
     ]
    }
   ],
   "source": [
    "%%time\n",
    "%matplotlib agg\n",
    "\n",
    "#model = dlc_rnn.LSTM1Dense1(trainX=trainX, trainY=trainY, valX=valX, valY=valY, gputouse=1, task='fly')\n",
    "modelPath = '/home/ishan/honors_thesis/models/flyRNN_1l_bs=16.hdf5'\n",
    "model = dlc_rnn.LSTM1Dense1(mpath=modelPath, gputouse=1, task='fly')\n",
    "#model.train(epochs=300, batch_size = 16)"
   ]
  },
  {
   "cell_type": "code",
   "execution_count": 26,
   "metadata": {},
   "outputs": [
    {
     "name": "stderr",
     "output_type": "stream",
     "text": [
      "Training: 100%|██████████| 10/10 [05:28<00:00, 32.85s/it]\n"
     ]
    }
   ],
   "source": [
    "model.trainX = trainX\n",
    "model.trainY = trainY\n",
    "model.valX = valX\n",
    "model.valY = valY\n",
    "model.train(epochs=10,batch_size=16)"
   ]
  },
  {
   "cell_type": "code",
   "execution_count": null,
   "metadata": {},
   "outputs": [
    {
     "name": "stderr",
     "output_type": "stream",
     "text": [
      "Training:  46%|████▌     | 229/500 [2:03:38<2:23:10, 31.70s/it]"
     ]
    }
   ],
   "source": [
    "model.train(epochs=500,batch_size=16)"
   ]
  },
  {
   "cell_type": "code",
   "execution_count": 7,
   "metadata": {},
   "outputs": [],
   "source": [
    "os.rename(\"/home/ishan/honors_thesis/flyRNN.hdf5\", \"/home/ishan/honors_thesis/models/flyRNN_1l_bs=16.hdf5\")\n",
    "os.rename(\"/home/ishan/honors_thesis/flylosscurve.png\", \"/home/ishan/honors_thesis/models/flylosscurve_1l_bs=16.png\")"
   ]
  },
  {
   "cell_type": "code",
   "execution_count": 4,
   "metadata": {
    "collapsed": true
   },
   "outputs": [
    {
     "name": "stdout",
     "output_type": "stream",
     "text": [
      "WARNING:tensorflow:From /home/ishan/anaconda3/lib/python3.7/site-packages/tensorflow/python/ops/resource_variable_ops.py:435: colocate_with (from tensorflow.python.framework.ops) is deprecated and will be removed in a future version.\n",
      "Instructions for updating:\n",
      "Colocations handled automatically by placer.\n",
      "WARNING:tensorflow:From /home/ishan/anaconda3/lib/python3.7/site-packages/tensorflow/python/ops/math_ops.py:3066: to_int32 (from tensorflow.python.ops.math_ops) is deprecated and will be removed in a future version.\n",
      "Instructions for updating:\n",
      "Use tf.cast instead.\n"
     ]
    },
    {
     "name": "stderr",
     "output_type": "stream",
     "text": [
      "Training: 100%|██████████| 1000/1000 [11:24:10<00:00, 41.05s/it] \n"
     ]
    },
    {
     "data": {
      "image/png": "[encoded data removed]",
      "text/plain": [
       "<Figure size 432x288 with 1 Axes>"
      ]
     },
     "metadata": {
      "needs_background": "light"
     },
     "output_type": "display_data"
    }
   ],
   "source": [
    "model_2layer = dlc_rnn.LSTM2Dense1(trainX=trainX, trainY=trainY, valX=valX, valY=valY, gputouse=1, task='fly')\n",
    "model_2layer.train(epochs=1000, batch_size = 16)"
   ]
  },
  {
   "cell_type": "code",
   "execution_count": 5,
   "metadata": {},
   "outputs": [],
   "source": [
    "os.rename(\"/home/ishan/honors_thesis/fly_2layersRNN.hdf5\", \"/home/ishan/honors_thesis/models/flyRNN_2l_bs=16.hdf5\")\n",
    "os.rename(\"/home/ishan/honors_thesis/fly_2layerslosscurve.png\", \"/home/ishan/honors_thesis/models/flylosscurve_2l_bs=16.png\")"
   ]
  },
  {
   "cell_type": "code",
   "execution_count": null,
   "metadata": {},
   "outputs": [],
   "source": []
  }
 ],
 "metadata": {
  "kernelspec": {
   "display_name": "Python 3",
   "language": "python",
   "name": "python3"
  },
  "language_info": {
   "codemirror_mode": {
    "name": "ipython",
    "version": 3
   },
   "file_extension": ".py",
   "mimetype": "text/x-python",
   "name": "python",
   "nbconvert_exporter": "python",
   "pygments_lexer": "ipython3",
   "version": "3.7.4"
  }
 },
 "nbformat": 4,
 "nbformat_minor": 2
}
